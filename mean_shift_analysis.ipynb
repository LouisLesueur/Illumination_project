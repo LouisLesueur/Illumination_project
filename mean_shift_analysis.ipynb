{
 "cells": [
  {
   "cell_type": "code",
   "execution_count": null,
   "metadata": {},
   "outputs": [],
   "source": [
    "# System\n",
    "import gc\n",
    "import os\n",
    "import sys\n",
    "from pathlib import Path\n",
    "\n",
    "# Cpu\n",
    "from collections import Counter\n",
    "import numpy as np\n",
    "import pandas as pd\n",
    "\n",
    "# Data viz\n",
    "from IPython.display import Image, display, HTML\n",
    "from PIL import Image\n",
    "import matplotlib.pyplot as plt\n",
    "import matplotlib.image as mpimg\n",
    "import pprint\n",
    "import seaborn as sns\n",
    "\n",
    "plt.rcParams['legend.framealpha'] = 1\n",
    "plt.rcParams['legend.frameon'] = True\n",
    "plt.rcParams['legend.edgecolor'] = 'k'\n",
    "plt.rcParams['legend.fancybox'] = False\n",
    "plt.rcParams['legend.facecolor'] = 'w'\n",
    "plt.rcParams['legend.handlelength'] = 1\n",
    "plt.rcParams['legend.handleheight'] = 1.125\n",
    "plt.rcParams['figure.figsize'] = (16, 9)\n",
    "\n",
    "    \n",
    "display(HTML(\"<style>.container { width:95% !important; }</style>\"))"
   ]
  },
  {
   "cell_type": "code",
   "execution_count": null,
   "metadata": {},
   "outputs": [],
   "source": [
    "from contextlib import contextmanager\n",
    "import time\n",
    "@contextmanager\n",
    "def timer(name, unit='s'):\n",
    "    start = time.time()\n",
    "    yield\n",
    "    delta = time.time() - start\n",
    "    if unit == 's':\n",
    "        pass\n",
    "    elif unit == 'min':\n",
    "        delta /= 60\n",
    "    else:\n",
    "        raise NotImplementedError\n",
    "    print('{}: {:.2f}{}'.format(name, delta, unit))"
   ]
  },
  {
   "cell_type": "markdown",
   "metadata": {},
   "source": [
    "# Clustering manuscripts through illuminations"
   ]
  },
  {
   "cell_type": "code",
   "execution_count": null,
   "metadata": {},
   "outputs": [],
   "source": [
    "PROJECT_DIR = "
   ]
  },
  {
   "cell_type": "code",
   "execution_count": null,
   "metadata": {},
   "outputs": [],
   "source": [
    "p = Path(PROJECT_DIR) / 'raw_data'\n",
    "manuscripts = sorted(list(filter(lambda p: p.is_dir(), p.glob('*'))))"
   ]
  },
  {
   "cell_type": "markdown",
   "metadata": {},
   "source": [
    "## 1. Example"
   ]
  },
  {
   "cell_type": "code",
   "execution_count": null,
   "metadata": {},
   "outputs": [],
   "source": [
    "from cv2 import cvtColor, COLOR_RGB2Lab, COLOR_Lab2RGB\n",
    "from collections import Counter\n",
    "\n",
    "manuscript = manuscripts[-1]\n",
    "illuminations = sorted(manuscript.glob('**/*.jpg'))\n",
    "df = pd.DataFrame(columns=['a', 'b'])\n",
    "illu = illuminations[0]\n",
    "i = Image.open(illu)\n",
    "arr = np.array(i)\n",
    "ab = np.reshape(cvtColor(arr, COLOR_RGB2Lab)[:,:,1:], (-1, 2)).tolist()\n",
    "df = pd.concat([df, pd.DataFrame(ab, columns=['a', 'b'])], ignore_index=True)\n",
    "df['ab'] = list(map(tuple, df.values.tolist()))\n",
    "\n",
    "plt.imshow(i)"
   ]
  },
  {
   "cell_type": "code",
   "execution_count": null,
   "metadata": {},
   "outputs": [],
   "source": [
    "counts = df['ab'].value_counts()\n",
    "keys, values = counts.index.tolist(), counts.values\n",
    "abc = np.hstack([np.array(keys), np.reshape(np.array(values), (-1, 1))])"
   ]
  },
  {
   "cell_type": "markdown",
   "metadata": {},
   "source": [
    "### 1.1. Triangulation surface from pixel_count"
   ]
  },
  {
   "cell_type": "code",
   "execution_count": null,
   "metadata": {},
   "outputs": [],
   "source": [
    "import matplotlib.pyplot as plt\n",
    "from mpl_toolkits.mplot3d import Axes3D\n",
    "\n",
    "colors = cvtColor(np.reshape(np.hstack([[[100]]*len(keys), np.array(keys)]), (1, -1, 3)).astype('uint8'), COLOR_Lab2RGB)[0] / 255.\n",
    "x, y, z = abc[:, 0], abc[:, 1], abc[:, 2]"
   ]
  },
  {
   "cell_type": "code",
   "execution_count": null,
   "metadata": {},
   "outputs": [],
   "source": [
    "fig = plt.figure(figsize=(40, 20))\n",
    "ax = fig.add_subplot(121, projection='3d')\n",
    "ax.plot_trisurf(x, y, z, color=(0, 0, 0, 0.2), lw=1)\n",
    "ax.scatter(xs=x, ys=y, zs=z, s=25,  c=colors, lw=0)\n",
    "ax.set_xlabel('a')\n",
    "ax.set_ylabel('b')\n",
    "ax.set_zlabel('pixel_count')\n",
    "ax.view_init(30, 30)\n",
    "\n",
    "ax = fig.add_subplot(122, projection='3d')\n",
    "ax.plot_trisurf(x, y, z, color=(0, 0, 0, 0.2), lw=1)\n",
    "ax.scatter(xs=x, ys=y, zs=z, s=25,  c=colors, lw=0)\n",
    "ax.set_xlabel('a')\n",
    "ax.set_ylabel('b')\n",
    "ax.set_zlabel('pixel_count')\n",
    "ax.view_init(30, 60)"
   ]
  },
  {
   "cell_type": "markdown",
   "metadata": {},
   "source": [
    "### 1.2. Gaussian kde"
   ]
  },
  {
   "cell_type": "code",
   "execution_count": null,
   "metadata": {},
   "outputs": [],
   "source": [
    "from scipy.stats import gaussian_kde\n",
    "\n",
    "kernel = gaussian_kde(dataset=np.swapaxes(np.asarray(keys), 0, 1), bw_method=0.1, weights=values)\n",
    "xmin, xmax = df['a'].min(), df['a'].max()\n",
    "ymin, ymax = df['b'].min(), df['b'].max()\n",
    "X, Y = np.mgrid[xmin:xmax:100j, ymin:ymax:100j]\n",
    "positions = np.vstack([X.ravel(), Y.ravel()])\n",
    "Z = np.reshape(kernel(positions).T, X.shape)\n",
    "colors = cvtColor(np.dstack([np.ones(X.shape, dtype=np.uint8)*100, X, Y]).astype(np.uint8), COLOR_Lab2RGB) / 255."
   ]
  },
  {
   "cell_type": "code",
   "execution_count": null,
   "metadata": {},
   "outputs": [],
   "source": [
    "fig = plt.figure(figsize=(40, 20))\n",
    "ax = fig.add_subplot(121, projection='3d')\n",
    "ax.plot_surface(X, Y, Z, rcount=50, ccount=50, facecolors=colors, shade=False, alpha=1, edgecolors='none', lw=0)\n",
    "ax.set_xlabel('a')\n",
    "ax.set_ylabel('b')\n",
    "ax.set_zlabel('z')\n",
    "ax.view_init(30, 30)\n",
    "\n",
    "ax = fig.add_subplot(122, projection='3d')\n",
    "ax.plot_surface(X, Y, Z, rcount=50, ccount=50, facecolors=colors, shade=False, alpha=1, edgecolors='none', lw=0)\n",
    "ax.set_xlabel('a')\n",
    "ax.set_ylabel('b')\n",
    "ax.set_zlabel('z')\n",
    "ax.view_init(30, 60)"
   ]
  },
  {
   "cell_type": "markdown",
   "metadata": {},
   "source": [
    "### 1.3. Mean Shift clustering"
   ]
  },
  {
   "cell_type": "code",
   "execution_count": null,
   "metadata": {},
   "outputs": [],
   "source": [
    "from sklearn.cluster import MeanShift\n",
    "from utils import timer\n",
    "\n",
    "sample = df.sample(10000)\n",
    "with timer('fitting'):\n",
    "    cluster = MeanShift(bandwidth=10, n_jobs=-1).fit(sample[['a', 'b']])\n",
    "unique_labels = np.unique(cluster.labels_)\n",
    "len(unique_labels)"
   ]
  },
  {
   "cell_type": "markdown",
   "metadata": {},
   "source": [
    "#### Visualisation in pixel_count space"
   ]
  },
  {
   "cell_type": "code",
   "execution_count": null,
   "metadata": {},
   "outputs": [],
   "source": [
    "counts = df['ab'].value_counts()\n",
    "keys, values = counts.index.tolist(), counts.values\n",
    "abc = np.hstack([np.array(keys), np.reshape(np.array(values), (-1, 1))])\n",
    "x, y, z = abc[:, 0], abc[:, 1], abc[:, 2]\n",
    "\n",
    "from matplotlib.cm import get_cmap\n",
    "from matplotlib.colors import ListedColormap\n",
    "\n",
    "colors_list = cvtColor(np.reshape(np.hstack([[[100]]*len(unique_labels), cluster.cluster_centers_]), (1, -1, 3)).astype('uint8'), COLOR_Lab2RGB)[0] / 255.\n",
    "cmap = ListedColormap(colors_list)\n",
    "colors = cmap(cluster.predict(keys))"
   ]
  },
  {
   "cell_type": "code",
   "execution_count": null,
   "metadata": {},
   "outputs": [],
   "source": [
    "fig = plt.figure(figsize=(40, 20))\n",
    "ax = fig.add_subplot(121, projection='3d')\n",
    "ax.plot_trisurf(x, y, z, color=(0, 0, 0, 0.2), lw=1)\n",
    "ax.scatter(xs=x, ys=y, zs=z, s=25,  c=colors, lw=0, depthshade=False)\n",
    "ax.set_xlabel('a')\n",
    "ax.set_ylabel('b')\n",
    "ax.set_zlabel('pixel_count')\n",
    "ax.view_init(30, 30)\n",
    "\n",
    "ax = fig.add_subplot(122, projection='3d')\n",
    "ax.plot_trisurf(x, y, z, color=(0, 0, 0, 0.2), lw=1)\n",
    "ax.scatter(xs=x, ys=y, zs=z, s=25,  c=colors, lw=0, depthshade=False)\n",
    "ax.set_xlabel('a')\n",
    "ax.set_ylabel('b')\n",
    "ax.set_zlabel('pixel_count')\n",
    "ax.view_init(30, 60)"
   ]
  },
  {
   "cell_type": "markdown",
   "metadata": {},
   "source": [
    "#### Visualisation in original image space"
   ]
  },
  {
   "cell_type": "code",
   "execution_count": null,
   "metadata": {},
   "outputs": [],
   "source": [
    "import cv2\n",
    "l = 200\n",
    "colors_list = cvtColor(np.reshape(np.hstack([[[l]]*len(unique_labels), cluster.cluster_centers_]), (1, -1, 3)).astype('uint8'), COLOR_Lab2RGB)[0] / 255.\n",
    "cmap = ListedColormap(colors_list)\n",
    "labels = cluster.predict(df[['a', 'b']]).reshape(arr.shape[:2])\n",
    "colors = cmap(labels)[:, :, :3] * 255\n",
    "res_img = colors.astype(np.uint8)\n",
    "contours = []\n",
    "for k in unique_labels:\n",
    "    mask = (labels == k).astype(np.uint8)\n",
    "    _, contour, _ = cv2.findContours(mask,  cv2.RETR_EXTERNAL, cv2.CHAIN_APPROX_SIMPLE)\n",
    "    contours += contour\n",
    "cv2.drawContours(res_img, contours, -1, (50, 50, 50), thickness=1)\n",
    "\n",
    "fig, ax = plt.subplots(1, 2, figsize=(5*2, 5))\n",
    "ax[0].imshow(i)\n",
    "ax[0].set_title('raw image')\n",
    "ax[1].imshow(Image.fromarray(res_img))\n",
    "_ = ax[1].set_title('L = 200')"
   ]
  }
 ],
 "metadata": {
  "kernelspec": {
   "display_name": "Python 3",
   "language": "python",
   "name": "python3"
  },
  "language_info": {
   "codemirror_mode": {
    "name": "ipython",
    "version": 3
   },
   "file_extension": ".py",
   "mimetype": "text/x-python",
   "name": "python",
   "nbconvert_exporter": "python",
   "pygments_lexer": "ipython3",
   "version": "3.8.2"
  }
 },
 "nbformat": 4,
 "nbformat_minor": 2
}
