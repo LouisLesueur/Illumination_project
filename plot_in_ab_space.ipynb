{
 "cells": [
  {
   "cell_type": "code",
   "execution_count": null,
   "metadata": {},
   "outputs": [],
   "source": [
    "# System\n",
    "import gc\n",
    "import os\n",
    "import sys\n",
    "from pathlib import Path\n",
    "\n",
    "# Cpu\n",
    "from collections import Counter\n",
    "import numpy as np\n",
    "import pandas as pd\n",
    "\n",
    "# Data viz\n",
    "from IPython.display import Image, display, HTML\n",
    "from PIL import Image\n",
    "import matplotlib.pyplot as plt\n",
    "import matplotlib.image as mpimg\n",
    "import pprint\n",
    "import seaborn as sns\n",
    "plt.rcParams['legend.framealpha'] = 1\n",
    "plt.rcParams['legend.frameon'] = True\n",
    "plt.rcParams['legend.edgecolor'] = 'k'\n",
    "plt.rcParams['legend.fancybox'] = False\n",
    "plt.rcParams['legend.facecolor'] = 'w'\n",
    "plt.rcParams['legend.handlelength'] = 1\n",
    "plt.rcParams['legend.handleheight'] = 1.125\n",
    "plt.rcParams['figure.figsize'] = (16, 9)\n",
    "\n",
    "\n",
    "display(HTML(\"<style>.container { width:95% !important; }</style>\"))"
   ]
  },
  {
   "cell_type": "markdown",
   "metadata": {},
   "source": [
    "# Plot modes in (a, b) space"
   ]
  },
  {
   "cell_type": "code",
   "execution_count": null,
   "metadata": {},
   "outputs": [],
   "source": [
    "PROJECT_DIR = \"\""
   ]
  },
  {
   "cell_type": "code",
   "execution_count": null,
   "metadata": {},
   "outputs": [],
   "source": [
    "root = Path(PROJECT_DIR)\n",
    "p = root / 'analysis'\n",
    "\n",
    "files = sorted(p.glob('**/*.tsv'))\n",
    "files = list(filter(lambda f: 'global' not in f.name, files))\n",
    "manuscripts = list(map(lambda f: f.parent.name, files))\n",
    "illuminations = sorted((root / 'raw_data').glob('**/*.jpg'))"
   ]
  },
  {
   "cell_type": "code",
   "execution_count": null,
   "metadata": {},
   "outputs": [],
   "source": [
    "from ast import literal_eval\n",
    "df = pd.DataFrame()\n",
    "dtype = {\n",
    "    'image_name': str,\n",
    "    'bandwidth': float,\n",
    "    'nb_cluster': int,\n",
    "    'cluster_centers': str,\n",
    "}\n",
    "for f in files:\n",
    "    tmp_df = pd.read_csv(f, sep='\\t', header=0, dtype=dtype)\n",
    "    tmp_df['manuscript'] = f.parent.name\n",
    "    df = pd.concat([df, tmp_df], ignore_index=True)\n",
    "    \n",
    "df['centers'] = df['cluster_centers'].apply(literal_eval)\n",
    "df['centers'] = df['centers'].apply(lambda l: l[:4])\n",
    "df"
   ]
  },
  {
   "cell_type": "code",
   "execution_count": null,
   "metadata": {},
   "outputs": [],
   "source": [
    "from matplotlib.colors import ListedColormap\n",
    "import cv2\n",
    "\n",
    "with sns.axes_style('white', {'axes.grid': True}):\n",
    "    fig, ax = plt.subplots(figsize=(10, 10))\n",
    "    centers = np.asarray(df['centers'].sum())\n",
    "    centers_lab = np.hstack([[[100]]*len(centers), centers])\n",
    "    colors_list = cv2.cvtColor(np.reshape(centers_lab, (1, -1, 3)).astype('uint8'), cv2.COLOR_Lab2RGB)[0] / 255.\n",
    "    ax.scatter(*list(zip(*centers)), c=colors_list, s=200, marker='o', edgecolor=[(0, 0, 0, 1)]*len(colors_list))\n",
    "    ax.set_xlabel('a')\n",
    "    ax.set_ylabel('b')\n",
    "    ax.set_xlim((90, 190))\n",
    "    ax.set_ylim((90, 190))\n",
    "    ax.set_title('Cluster centers in (a, b) color space', fontweight='bold', size=14)\n",
    "    fig.tight_layout()\n",
    "#     fig.savefig('scatter_cluster_centers.jpg')"
   ]
  },
  {
   "cell_type": "markdown",
   "metadata": {},
   "source": [
    "# Zoom on manuscripts"
   ]
  },
  {
   "cell_type": "markdown",
   "metadata": {},
   "source": [
    "## yellow cluster"
   ]
  },
  {
   "cell_type": "code",
   "execution_count": null,
   "metadata": {},
   "outputs": [],
   "source": [
    "zoom_centers = centers[(centers[:, 1] > 159) & (centers[:, 1] < 165) & (centers[:, 0] > 132) & (centers[:, 0] < 138)]\n",
    "zoom_df = df[df['centers'].apply(lambda l: max([e in zoom_centers for e in l]))]"
   ]
  },
  {
   "cell_type": "code",
   "execution_count": null,
   "metadata": {},
   "outputs": [],
   "source": [
    "margin = 0.5\n",
    "with sns.axes_style('white', {'axes.grid': True}):\n",
    "    fig, ax = plt.subplots(figsize=(10, 10))\n",
    "    for name, possible_centers in zip(zoom_df['image_name'], zoom_df['centers']):\n",
    "        a, b = [e for e in possible_centers if e in zoom_centers][0]\n",
    "        f = list(filter(lambda f: f.name == name, illuminations))[0]\n",
    "        ax.imshow(Image.open(f), extent=(a - margin, a + margin, b - margin, b + margin))\n",
    "    ax.set_xlabel('a')\n",
    "    ax.set_ylabel('b')\n",
    "    x_min, y_min = (zoom_centers.min(axis=0) - 3*margin).astype(np.uint8)\n",
    "    x_max, y_max = (zoom_centers.max(axis=0) + 3*margin).astype(np.uint8)\n",
    "    ax.set_xlim((x_min, x_max))\n",
    "    ax.set_ylim((y_min, y_max))\n",
    "    fig.tight_layout()\n",
    "#     fig.savefig('yellow_cluster_ex.jpg')"
   ]
  },
  {
   "cell_type": "markdown",
   "metadata": {},
   "source": [
    "## blue cluster"
   ]
  },
  {
   "cell_type": "code",
   "execution_count": null,
   "metadata": {},
   "outputs": [],
   "source": [
    "zoom_centers = centers[(centers[:, 1] < 110) & (centers[:, 0] > 125)]\n",
    "zoom_df = df[df['centers'].apply(lambda l: max([e in zoom_centers for e in l]))]"
   ]
  },
  {
   "cell_type": "code",
   "execution_count": null,
   "metadata": {},
   "outputs": [],
   "source": [
    "margin = 0.4\n",
    "with sns.axes_style('white', {'axes.grid': True}):\n",
    "    fig, ax = plt.subplots(figsize=(10, 10))\n",
    "    for name, possible_centers in zip(zoom_df['image_name'], zoom_df['centers']):\n",
    "        a, b = [e for e in possible_centers if e in zoom_centers][0]\n",
    "        f = list(filter(lambda f: f.name == name, illuminations))[0]\n",
    "        ax.imshow(Image.open(f), extent=(a - margin, a + margin, b - margin, b + margin))\n",
    "    ax.set_xlabel('a')\n",
    "    ax.set_ylabel('b')\n",
    "    x_min, y_min = (zoom_centers.min(axis=0) - 3*0.5 + 1).astype(np.uint8)\n",
    "    x_max, y_max = (zoom_centers.max(axis=0) + 3*0.5).astype(np.uint8)\n",
    "    ax.set_xlim((x_min, x_max))\n",
    "    ax.set_ylim((y_min, y_max))\n",
    "    fig.tight_layout()\n",
    "#     fig.savefig('blue_cluster_ex.jpg')"
   ]
  }
 ],
 "metadata": {
  "kernelspec": {
   "display_name": "Python 3",
   "language": "python",
   "name": "python3"
  },
  "language_info": {
   "codemirror_mode": {
    "name": "ipython",
    "version": 3
   },
   "file_extension": ".py",
   "mimetype": "text/x-python",
   "name": "python",
   "nbconvert_exporter": "python",
   "pygments_lexer": "ipython3",
   "version": "3.7.3"
  }
 },
 "nbformat": 4,
 "nbformat_minor": 2
}
